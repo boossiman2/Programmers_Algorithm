{
 "cells": [
  {
   "cell_type": "markdown",
   "id": "100cb228",
   "metadata": {},
   "source": [
    "https://programmers.co.kr/learn/courses/30/lessons/60059\n",
    "\n",
    "2020 KAKAO BLIND RECRUITMENT"
   ]
  },
  {
   "cell_type": "code",
   "execution_count": 1,
   "id": "e558ef31",
   "metadata": {},
   "outputs": [],
   "source": [
    "import numpy as np"
   ]
  },
  {
   "cell_type": "code",
   "execution_count": 2,
   "id": "516b1124",
   "metadata": {},
   "outputs": [],
   "source": [
    "def find_point(target, value):   \n",
    "    point = np.where(target == value)\n",
    "    \n",
    "    if len(point[0]) == 0: \n",
    "        return None\n",
    "    \n",
    "    zero_point = np.c_[point]\n",
    "    max_point = zero_point.max(axis=0) # [2 2]\n",
    "    min_point = zero_point.min(axis=0) # [1 1]\n",
    "    \n",
    "    arr = target[min_point[0]:max_point[0]+1, min_point[1]:max_point[1]+1]\n",
    "    return arr"
   ]
  },
  {
   "cell_type": "code",
   "execution_count": 3,
   "id": "3cc64901",
   "metadata": {},
   "outputs": [],
   "source": [
    "def checkSubset(list1, list2):\n",
    "    mx, my = np.shape(list1)\n",
    "    fx, fy = np.shape(list2)\n",
    "    \n",
    "    if mx < fx or my < fy: \n",
    "        return False\n",
    "    \n",
    "    for i in range(mx-fx+1):\n",
    "        for j in range(my-fy+1): \n",
    "            if list2.tolist() == list1[i:i+fx, j:j+fy].tolist():\n",
    "                return True\n",
    "    return False"
   ]
  },
  {
   "cell_type": "code",
   "execution_count": 4,
   "id": "07b16806",
   "metadata": {},
   "outputs": [],
   "source": [
    "def solution(key, lock):\n",
    "    key = np.array(key)\n",
    "    lock = np.array(lock)\n",
    "    \n",
    "    sliced_key = find_point(key, 1)\n",
    "    sliced_lock = find_point(lock, 0)\n",
    "    \n",
    "    if sliced_lock is None:\n",
    "        return True\n",
    "    \n",
    "    sliced_key = 1-sliced_key\n",
    "    rotated_sliced_lock = [sliced_lock, np.rot90(sliced_lock), np.rot90(sliced_lock,2), np.rot90(sliced_lock,3)]\n",
    "    \n",
    "    for rot_sli_lock in rotated_sliced_lock:\n",
    "        if checkSubset(sliced_key, rot_sli_lock) == True:\n",
    "            return True\n",
    "    return False"
   ]
  },
  {
   "cell_type": "code",
   "execution_count": 5,
   "id": "30636097",
   "metadata": {},
   "outputs": [],
   "source": [
    "key = [[0, 0, 0], [1, 0, 0], [0, 1, 1]]\n",
    "lock = [[1, 1, 1], [1, 1, 0], [1, 0, 1]]"
   ]
  },
  {
   "cell_type": "code",
   "execution_count": 6,
   "id": "832ff997",
   "metadata": {},
   "outputs": [
    {
     "data": {
      "text/plain": [
       "True"
      ]
     },
     "execution_count": 6,
     "metadata": {},
     "output_type": "execute_result"
    }
   ],
   "source": [
    "solution(key,lock)"
   ]
  },
  {
   "cell_type": "code",
   "execution_count": null,
   "id": "28bd2cf1",
   "metadata": {},
   "outputs": [],
   "source": []
  }
 ],
 "metadata": {
  "kernelspec": {
   "display_name": "Python 3 (ipykernel)",
   "language": "python",
   "name": "python3"
  },
  "language_info": {
   "codemirror_mode": {
    "name": "ipython",
    "version": 3
   },
   "file_extension": ".py",
   "mimetype": "text/x-python",
   "name": "python",
   "nbconvert_exporter": "python",
   "pygments_lexer": "ipython3",
   "version": "3.7.3"
  }
 },
 "nbformat": 4,
 "nbformat_minor": 5
}
