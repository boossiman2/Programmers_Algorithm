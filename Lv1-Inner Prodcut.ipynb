{
 "cells": [
  {
   "cell_type": "markdown",
   "id": "d034267b",
   "metadata": {},
   "source": [
    "https://programmers.co.kr/learn/courses/30/lessons/70128\n",
    "\n",
    "문제 설명\n",
    "\n",
    "길이가 같은 두 1차원 정수 배열 a, b가 매개변수로 주어집니다. a와 b의 내적을 return 하도록 solution 함수를 완성해주세요.\n",
    "\n",
    "이때, a와 b의 내적은 a[0]*b[0] + a[1]*b[1] + ... + a[n-1]*b[n-1] 입니다. (n은 a, b의 길이)"
   ]
  },
  {
   "cell_type": "code",
   "execution_count": 5,
   "id": "806ddaca",
   "metadata": {},
   "outputs": [],
   "source": [
    "import numpy as np\n",
    "\n",
    "def solution(a, b):\n",
    "    return int(np.multiply(a,b).sum())"
   ]
  },
  {
   "cell_type": "code",
   "execution_count": 6,
   "id": "eddee5e4",
   "metadata": {},
   "outputs": [
    {
     "data": {
      "text/plain": [
       "3"
      ]
     },
     "execution_count": 6,
     "metadata": {},
     "output_type": "execute_result"
    }
   ],
   "source": [
    "a,b = [1,2,3,4], [-3,-1,0,2] # 3\n",
    "solution(a,b)"
   ]
  },
  {
   "cell_type": "code",
   "execution_count": 7,
   "id": "33b99a91",
   "metadata": {},
   "outputs": [
    {
     "data": {
      "text/plain": [
       "-2"
      ]
     },
     "execution_count": 7,
     "metadata": {},
     "output_type": "execute_result"
    }
   ],
   "source": [
    "a,b = [-1,0,1],[1,0,-1] # -2\n",
    "solution(a,b)"
   ]
  }
 ],
 "metadata": {
  "kernelspec": {
   "display_name": "Python 3",
   "language": "python",
   "name": "python3"
  },
  "language_info": {
   "codemirror_mode": {
    "name": "ipython",
    "version": 3
   },
   "file_extension": ".py",
   "mimetype": "text/x-python",
   "name": "python",
   "nbconvert_exporter": "python",
   "pygments_lexer": "ipython3",
   "version": "3.9.5"
  }
 },
 "nbformat": 4,
 "nbformat_minor": 5
}
