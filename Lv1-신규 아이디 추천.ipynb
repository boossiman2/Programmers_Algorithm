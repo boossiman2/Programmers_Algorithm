{
 "cells": [
  {
   "cell_type": "markdown",
   "id": "800da6d4",
   "metadata": {},
   "source": [
    "https://programmers.co.kr/learn/courses/30/lessons/72410\n",
    "\n",
    "문제 설명\n",
    "\n",
    "카카오에 입사한 신입 개발자 네오는 \"카카오계정개발팀\"에 배치되어, 카카오 서비스에 가입하는 유저들의 아이디를 생성하는 업무를 담당하게 되었습니다. \"네오\"에게 주어진 첫 업무는 새로 가입하는 유저들이 카카오 아이디 규칙에 맞지 않는 아이디를 입력했을 때, 입력된 아이디와 유사하면서 규칙에 맞는 아이디를 추천해주는 프로그램을 개발하는 것입니다.\n",
    "다음은 카카오 아이디의 규칙입니다.\n",
    "\n",
    "아이디의 길이는 3자 이상 15자 이하여야 합니다.\n",
    "아이디는 알파벳 소문자, 숫자, 빼기(-), 밑줄(_), 마침표(.) 문자만 사용할 수 있습니다.\n",
    "단, 마침표(.)는 처음과 끝에 사용할 수 없으며 또한 연속으로 사용할 수 없습니다.\n",
    "\"네오\"는 다음과 같이 7단계의 순차적인 처리 과정을 통해 신규 유저가 입력한 아이디가 카카오 아이디 규칙에 맞는 지 검사하고 규칙에 맞지 않은 경우 규칙에 맞는 새로운 아이디를 추천해 주려고 합니다.\n",
    "신규 유저가 입력한 아이디가 new_id 라고 한다면,\n",
    "<ul>\n",
    "<li>1단계 new_id의 모든 대문자를 대응되는 소문자로 치환합니다.</li>\n",
    "<li>2단계 new_id에서 알파벳 소문자, 숫자, 빼기(-), 밑줄(_), 마침표(.)를 제외한 모든 문자를 제거합니다.</li>\n",
    "<li>3단계 new_id에서 마침표(.)가 2번 이상 연속된 부분을 하나의 마침표(.)로 치환합니다.</li>\n",
    "<li>4단계 new_id에서 마침표(.)가 처음이나 끝에 위치한다면 제거합니다.</li>\n",
    "<li>5단계 new_id가 빈 문자열이라면, new_id에 \"a\"를 대입합니다.</li>\n",
    "<li>6단계 new_id의 길이가 16자 이상이면, new_id의 첫 15개의 문자를 제외한 나머지 문자들을 모두 제거합니다.\n",
    "     만약 제거 후 마침표(.)가 new_id의 끝에 위치한다면 끝에 위치한 마침표(.) 문자를 제거합니다.</li>\n",
    "    <li>7단계 new_id의 길이가 2자 이하라면, new_id의 마지막 문자를 new_id의 길이가 3이 될 때까지 반복해서 끝에 붙입니다.</li>\n",
    "</ul>"
   ]
  },
  {
   "cell_type": "code",
   "execution_count": 2,
   "id": "8f8bf806",
   "metadata": {},
   "outputs": [],
   "source": [
    "import re\n",
    "\n",
    "def solution(new_id):\n",
    "    # 1단계 new_id의 모든 대문자를 대응되는 소문자로 치환합니다.\n",
    "    new_id = new_id.lower()\n",
    "    # 2단계 new_id에서 알파벳 소문자, 숫자, 빼기(-), 밑줄(_), 마침표(.)를 제외한 모든 문자를 제거합니다.\n",
    "    new_id = re.compile('[a-z|1-9|\\-|_|.]').findall(new_id)\n",
    "    new_id = ''.join(new_id)\n",
    "    # 3단계 new_id에서 마침표(.)가 2번 이상 연속된 부분을 하나의 마침표(.)로 치환합니다.\n",
    "    new_id = re.sub('\\.+', '.', new_id)\n",
    "    # 4단계 new_id에서 마침표(.)가 처음이나 끝에 위치한다면 제거합니다.\n",
    "    new_id = re.sub('^[.]|[.]$', '', new_id)\n",
    "    # 5단계 new_id가 빈 문자열이라면, new_id에 \"a\"를 대입합니다.\n",
    "    if new_id == '': \n",
    "        new_id += 'a'\n",
    "    # 6단계 new_id의 길이가 16자 이상이면, new_id의 첫 15개의 문자를 제외한 나머지 문자들을 모두 제거합니다.\n",
    "    # 만약 제거 후 마침표(.)가 new_id의 끝에 위치한다면 끝에 위치한 마침표(.) 문자를 제거합니다.\n",
    "    if len(new_id) >= 16: \n",
    "        new_id = new_id[:15] \n",
    "        if new_id[-1] == '.': \n",
    "            new_id = new_id[:-1]\n",
    "    # 7단계 new_id의 길이가 2자 이하라면, new_id의 마지막 문자를 new_id의 길이가 3이 될 때까지 반복해서 끝에 붙입니다.\n",
    "    res_last = new_id[-1] \n",
    "    while len(new_id) <= 2: \n",
    "        new_id += res_last\n",
    "\n",
    "    return new_id"
   ]
  },
  {
   "cell_type": "code",
   "execution_count": 4,
   "id": "3b9b93c2",
   "metadata": {},
   "outputs": [
    {
     "data": {
      "text/plain": [
       "'bat.y.abcdefghi'"
      ]
     },
     "execution_count": 4,
     "metadata": {},
     "output_type": "execute_result"
    }
   ],
   "source": [
    "new_id = \"...!@BaT#*..y.abcdefghijklm\" # \"bat.y.abcdefghi\"\n",
    "solution(new_id)"
   ]
  },
  {
   "cell_type": "code",
   "execution_count": 5,
   "id": "9f4a42cf",
   "metadata": {},
   "outputs": [
    {
     "data": {
      "text/plain": [
       "'z--'"
      ]
     },
     "execution_count": 5,
     "metadata": {},
     "output_type": "execute_result"
    }
   ],
   "source": [
    "new_id = \"z-+.^.\" # \"z--\"\n",
    "solution(new_id)"
   ]
  },
  {
   "cell_type": "code",
   "execution_count": 8,
   "id": "4702a600",
   "metadata": {},
   "outputs": [
    {
     "data": {
      "text/plain": [
       "'aaa'"
      ]
     },
     "execution_count": 8,
     "metadata": {},
     "output_type": "execute_result"
    }
   ],
   "source": [
    "new_id = \"=.=\" # \"aaa\"\n",
    "solution(new_id)"
   ]
  },
  {
   "cell_type": "code",
   "execution_count": 10,
   "id": "13b95271",
   "metadata": {},
   "outputs": [
    {
     "data": {
      "text/plain": [
       "'123_.def'"
      ]
     },
     "execution_count": 10,
     "metadata": {},
     "output_type": "execute_result"
    }
   ],
   "source": [
    "new_id = \"123_.def\" # \"123_.def\"\n",
    "solution(new_id)"
   ]
  },
  {
   "cell_type": "code",
   "execution_count": 9,
   "id": "dc5fddb4",
   "metadata": {},
   "outputs": [
    {
     "data": {
      "text/plain": [
       "'abcdefghijklmn'"
      ]
     },
     "execution_count": 9,
     "metadata": {},
     "output_type": "execute_result"
    }
   ],
   "source": [
    "new_id = \"abcdefghijklmn.p\" #\"abcdefghijklmn\"\n",
    "solution(new_id)"
   ]
  },
  {
   "cell_type": "code",
   "execution_count": null,
   "id": "0b10babf",
   "metadata": {},
   "outputs": [],
   "source": []
  }
 ],
 "metadata": {
  "kernelspec": {
   "display_name": "Python 3",
   "language": "python",
   "name": "python3"
  },
  "language_info": {
   "codemirror_mode": {
    "name": "ipython",
    "version": 3
   },
   "file_extension": ".py",
   "mimetype": "text/x-python",
   "name": "python",
   "nbconvert_exporter": "python",
   "pygments_lexer": "ipython3",
   "version": "3.9.5"
  }
 },
 "nbformat": 4,
 "nbformat_minor": 5
}
